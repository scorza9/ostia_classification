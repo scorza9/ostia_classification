{
 "cells": [
  {
   "cell_type": "markdown",
   "metadata": {},
   "source": [
    "Imposta Tensorflow"
   ]
  },
  {
   "cell_type": "code",
   "execution_count": 2,
   "metadata": {},
   "outputs": [
    {
     "name": "stdout",
     "output_type": "stream",
     "text": [
      "TensorFlow version: 2.10.0\n"
     ]
    }
   ],
   "source": [
    "import tensorflow as tf\n",
    "print(\"TensorFlow version:\", tf.__version__)"
   ]
  },
  {
   "cell_type": "markdown",
   "metadata": {},
   "source": [
    "Carica un dataset"
   ]
  },
  {
   "cell_type": "code",
   "execution_count": 3,
   "metadata": {},
   "outputs": [
    {
     "name": "stdout",
     "output_type": "stream",
     "text": [
      "Downloading data from https://storage.googleapis.com/tensorflow/tf-keras-datasets/mnist.npz\n",
      "11490434/11490434 [==============================] - 3s 0us/step\n"
     ]
    }
   ],
   "source": [
    "mnist = tf.keras.datasets.mnist\n",
    "\n",
    "(x_train, y_train), (x_test, y_test) = mnist.load_data()\n",
    "x_train, x_test = x_train / 255.0, x_test / 255.0"
   ]
  },
  {
   "cell_type": "markdown",
   "metadata": {},
   "source": [
    "Costruisci un modello di apprendimento automatico\n"
   ]
  },
  {
   "cell_type": "code",
   "execution_count": 4,
   "metadata": {},
   "outputs": [],
   "source": [
    "model = tf.keras.models.Sequential([\n",
    "  tf.keras.layers.Flatten(input_shape=(28, 28)),\n",
    "  tf.keras.layers.Dense(128, activation='relu'),\n",
    "  tf.keras.layers.Dropout(0.2),\n",
    "  tf.keras.layers.Dense(10)\n",
    "])"
   ]
  },
  {
   "cell_type": "markdown",
   "metadata": {},
   "source": [
    "Per ogni esempio, il modello restituisce un vettore di punteggi logit o log-odds, uno per ogni classe"
   ]
  },
  {
   "cell_type": "code",
   "execution_count": 5,
   "metadata": {},
   "outputs": [
    {
     "data": {
      "text/plain": [
       "array([[-0.8929158 ,  0.19065458, -0.18269722, -0.46216547, -0.14830476,\n",
       "         0.3079152 , -0.31729326,  0.15535757, -0.34669736, -0.1361746 ]],\n",
       "      dtype=float32)"
      ]
     },
     "execution_count": 5,
     "metadata": {},
     "output_type": "execute_result"
    }
   ],
   "source": [
    "predictions = model(x_train[:1]).numpy()\n",
    "predictions"
   ]
  },
  {
   "cell_type": "markdown",
   "metadata": {},
   "source": [
    "La funzione tf.nn.softmax converte questi logit in probabilità per ogni classe:"
   ]
  },
  {
   "cell_type": "code",
   "execution_count": 6,
   "metadata": {},
   "outputs": [
    {
     "data": {
      "text/plain": [
       "array([[0.04662973, 0.13780072, 0.09486518, 0.0717357 , 0.09818459,\n",
       "        0.15494485, 0.08291871, 0.13302161, 0.08051606, 0.09938283]],\n",
       "      dtype=float32)"
      ]
     },
     "execution_count": 6,
     "metadata": {},
     "output_type": "execute_result"
    }
   ],
   "source": [
    "tf.nn.softmax(predictions).numpy()"
   ]
  },
  {
   "cell_type": "markdown",
   "metadata": {},
   "source": [
    "Definire una funzione di perdita per l'allenamento utilizzando losses.SparseCategoricalCrossentropy , che accetta un vettore di logit e un indice True e restituisce una perdita scalare per ogni esempio."
   ]
  },
  {
   "cell_type": "code",
   "execution_count": 7,
   "metadata": {},
   "outputs": [],
   "source": [
    "loss_fn = tf.keras.losses.SparseCategoricalCrossentropy(from_logits=True)"
   ]
  },
  {
   "cell_type": "markdown",
   "metadata": {},
   "source": [
    "Questa perdita è uguale alla probabilità logaritmica negativa della classe vera: la perdita è zero se il modello è sicuro della classe corretta.\n",
    "\n",
    "Questo modello non addestrato fornisce probabilità vicine a casuali (1/10 per ogni classe), quindi la perdita iniziale dovrebbe essere vicina a -tf.math.log(1/10) ~= 2.3 ."
   ]
  },
  {
   "cell_type": "code",
   "execution_count": 15,
   "metadata": {},
   "outputs": [
    {
     "data": {
      "text/plain": [
       "1.864686"
      ]
     },
     "execution_count": 15,
     "metadata": {},
     "output_type": "execute_result"
    }
   ],
   "source": [
    "loss_fn(y_train[:1], predictions).numpy()"
   ]
  },
  {
   "cell_type": "markdown",
   "metadata": {},
   "source": [
    "Prima di iniziare l'addestramento, configura e compila il modello utilizzando Keras Model.compile . Imposta la classe optimizer su adam , imposta la loss sulla funzione loss_fn definita in precedenza e specifica una metrica da valutare per il modello impostando il parametro metrics su accuracy ."
   ]
  },
  {
   "cell_type": "code",
   "execution_count": 9,
   "metadata": {},
   "outputs": [],
   "source": [
    "model.compile(optimizer='adam',\n",
    "              loss=loss_fn,\n",
    "              metrics=['accuracy'])"
   ]
  },
  {
   "cell_type": "markdown",
   "metadata": {},
   "source": [
    "Allena e valuta il tuo modello\n",
    "Usa il metodo Model.fit per regolare i parametri del tuo modello e ridurre al minimo la perdita:"
   ]
  },
  {
   "cell_type": "code",
   "execution_count": 10,
   "metadata": {},
   "outputs": [
    {
     "name": "stdout",
     "output_type": "stream",
     "text": [
      "Epoch 1/5\n",
      "1875/1875 [==============================] - 3s 2ms/step - loss: 0.2912 - accuracy: 0.9140\n",
      "Epoch 2/5\n",
      "1875/1875 [==============================] - 3s 2ms/step - loss: 0.1422 - accuracy: 0.9576\n",
      "Epoch 3/5\n",
      "1875/1875 [==============================] - 3s 2ms/step - loss: 0.1082 - accuracy: 0.9675\n",
      "Epoch 4/5\n",
      "1875/1875 [==============================] - 3s 2ms/step - loss: 0.0863 - accuracy: 0.9734\n",
      "Epoch 5/5\n",
      "1875/1875 [==============================] - 3s 2ms/step - loss: 0.0748 - accuracy: 0.9763\n"
     ]
    },
    {
     "data": {
      "text/plain": [
       "<keras.callbacks.History at 0x22d1725bf10>"
      ]
     },
     "execution_count": 10,
     "metadata": {},
     "output_type": "execute_result"
    }
   ],
   "source": [
    "model.fit(x_train, y_train, epochs=5)"
   ]
  },
  {
   "cell_type": "markdown",
   "metadata": {},
   "source": [
    "Il metodo Model.evaluate verifica le prestazioni dei modelli, solitamente su un \" Set di convalida \" o \" Set di test \"."
   ]
  },
  {
   "cell_type": "code",
   "execution_count": 11,
   "metadata": {},
   "outputs": [
    {
     "name": "stdout",
     "output_type": "stream",
     "text": [
      "313/313 - 1s - loss: 0.0734 - accuracy: 0.9790 - 515ms/epoch - 2ms/step\n"
     ]
    },
    {
     "data": {
      "text/plain": [
       "[0.07339996099472046, 0.9789999723434448]"
      ]
     },
     "execution_count": 11,
     "metadata": {},
     "output_type": "execute_result"
    }
   ],
   "source": [
    "model.evaluate(x_test,  y_test, verbose=2)"
   ]
  },
  {
   "cell_type": "markdown",
   "metadata": {},
   "source": [
    "Il classificatore di immagini è ora addestrato con una precisione del 98% circa su questo set di dati.\n",
    "\n",
    "Se vuoi che il tuo modello restituisca una probabilità, puoi avvolgere il modello addestrato e allegare ad esso il softmax:\n",
    "\n"
   ]
  },
  {
   "cell_type": "code",
   "execution_count": 12,
   "metadata": {},
   "outputs": [],
   "source": [
    "probability_model = tf.keras.Sequential([\n",
    "  model,\n",
    "  tf.keras.layers.Softmax()\n",
    "])"
   ]
  },
  {
   "cell_type": "code",
   "execution_count": 13,
   "metadata": {},
   "outputs": [
    {
     "data": {
      "text/plain": [
       "<tf.Tensor: shape=(5, 10), dtype=float32, numpy=\n",
       "array([[3.0398763e-08, 2.3853708e-08, 2.0716172e-07, 9.5324482e-05,\n",
       "        3.2731104e-10, 1.3070462e-07, 7.4985570e-14, 9.9989760e-01,\n",
       "        4.2348293e-07, 6.2817453e-06],\n",
       "       [3.3237604e-09, 2.2756845e-04, 9.9968731e-01, 8.3738509e-05,\n",
       "        1.6545540e-13, 1.1086189e-06, 1.0880832e-07, 3.7761246e-13,\n",
       "        9.3739978e-08, 3.6014130e-15],\n",
       "       [5.4044360e-08, 9.9745387e-01, 1.0224013e-03, 8.4831363e-06,\n",
       "        3.7840342e-05, 4.0284823e-07, 1.6660320e-05, 1.1493117e-03,\n",
       "        3.1061246e-04, 4.6087953e-07],\n",
       "       [9.9857318e-01, 3.8418756e-07, 1.3331517e-04, 2.2321052e-07,\n",
       "        5.6284061e-05, 1.6886732e-05, 8.2960544e-04, 2.1501804e-05,\n",
       "        8.6178353e-08, 3.6841584e-04],\n",
       "       [1.7150903e-06, 3.4994549e-08, 1.2456202e-05, 8.1220250e-08,\n",
       "        9.8761290e-01, 6.7728007e-07, 2.2082963e-07, 5.7422210e-05,\n",
       "        9.3236958e-06, 1.2305103e-02]], dtype=float32)>"
      ]
     },
     "execution_count": 13,
     "metadata": {},
     "output_type": "execute_result"
    }
   ],
   "source": [
    "probability_model(x_test[:5])"
   ]
  }
 ],
 "metadata": {
  "kernelspec": {
   "display_name": "base",
   "language": "python",
   "name": "python3"
  },
  "language_info": {
   "codemirror_mode": {
    "name": "ipython",
    "version": 3
   },
   "file_extension": ".py",
   "mimetype": "text/x-python",
   "name": "python",
   "nbconvert_exporter": "python",
   "pygments_lexer": "ipython3",
   "version": "3.10.13"
  }
 },
 "nbformat": 4,
 "nbformat_minor": 2
}
